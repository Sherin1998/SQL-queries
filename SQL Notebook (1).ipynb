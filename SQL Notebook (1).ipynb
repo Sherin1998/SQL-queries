{
 "cells": [
  {
   "cell_type": "code",
   "execution_count": 1,
   "metadata": {},
   "outputs": [
    {
     "name": "stdout",
     "output_type": "stream",
     "text": [
      "Requirement already satisfied: mysql-connector-python in c:\\python\\lib\\site-packages (8.0.24)\n",
      "Requirement already satisfied: protobuf>=3.0.0 in c:\\python\\lib\\site-packages (from mysql-connector-python) (4.21.2)\n"
     ]
    },
    {
     "ename": "DatabaseError",
     "evalue": "1007 (HY000): Can't create database 'carbon'; database exists",
     "output_type": "error",
     "traceback": [
      "\u001b[1;31m---------------------------------------------------------------------------\u001b[0m",
      "\u001b[1;31mDatabaseError\u001b[0m                             Traceback (most recent call last)",
      "\u001b[1;32m<ipython-input-1-ae54a6902d5d>\u001b[0m in \u001b[0;36m<module>\u001b[1;34m\u001b[0m\n\u001b[0;32m      7\u001b[0m \u001b[0mquery\u001b[0m \u001b[1;33m=\u001b[0m \u001b[1;34m\"Create Database Carbon\"\u001b[0m\u001b[1;33m\u001b[0m\u001b[1;33m\u001b[0m\u001b[0m\n\u001b[0;32m      8\u001b[0m \u001b[0mcur\u001b[0m\u001b[1;33m=\u001b[0m \u001b[0mmydb\u001b[0m\u001b[1;33m.\u001b[0m\u001b[0mcursor\u001b[0m\u001b[1;33m(\u001b[0m\u001b[1;33m)\u001b[0m\u001b[1;33m\u001b[0m\u001b[1;33m\u001b[0m\u001b[0m\n\u001b[1;32m----> 9\u001b[1;33m \u001b[0mcur\u001b[0m\u001b[1;33m.\u001b[0m\u001b[0mexecute\u001b[0m\u001b[1;33m(\u001b[0m\u001b[0mquery\u001b[0m\u001b[1;33m)\u001b[0m\u001b[1;33m\u001b[0m\u001b[1;33m\u001b[0m\u001b[0m\n\u001b[0m\u001b[0;32m     10\u001b[0m \u001b[1;33m\u001b[0m\u001b[0m\n",
      "\u001b[1;32mC:\\Games\\lib\\site-packages\\mysql\\connector\\cursor.py\u001b[0m in \u001b[0;36mexecute\u001b[1;34m(self, operation, params, multi)\u001b[0m\n\u001b[0;32m    566\u001b[0m \u001b[1;33m\u001b[0m\u001b[0m\n\u001b[0;32m    567\u001b[0m         \u001b[1;32mtry\u001b[0m\u001b[1;33m:\u001b[0m\u001b[1;33m\u001b[0m\u001b[1;33m\u001b[0m\u001b[0m\n\u001b[1;32m--> 568\u001b[1;33m             \u001b[0mself\u001b[0m\u001b[1;33m.\u001b[0m\u001b[0m_handle_result\u001b[0m\u001b[1;33m(\u001b[0m\u001b[0mself\u001b[0m\u001b[1;33m.\u001b[0m\u001b[0m_connection\u001b[0m\u001b[1;33m.\u001b[0m\u001b[0mcmd_query\u001b[0m\u001b[1;33m(\u001b[0m\u001b[0mstmt\u001b[0m\u001b[1;33m)\u001b[0m\u001b[1;33m)\u001b[0m\u001b[1;33m\u001b[0m\u001b[1;33m\u001b[0m\u001b[0m\n\u001b[0m\u001b[0;32m    569\u001b[0m         \u001b[1;32mexcept\u001b[0m \u001b[0merrors\u001b[0m\u001b[1;33m.\u001b[0m\u001b[0mInterfaceError\u001b[0m\u001b[1;33m:\u001b[0m\u001b[1;33m\u001b[0m\u001b[1;33m\u001b[0m\u001b[0m\n\u001b[0;32m    570\u001b[0m             \u001b[1;32mif\u001b[0m \u001b[0mself\u001b[0m\u001b[1;33m.\u001b[0m\u001b[0m_connection\u001b[0m\u001b[1;33m.\u001b[0m\u001b[0m_have_next_result\u001b[0m\u001b[1;33m:\u001b[0m  \u001b[1;31m# pylint: disable=W0212\u001b[0m\u001b[1;33m\u001b[0m\u001b[1;33m\u001b[0m\u001b[0m\n",
      "\u001b[1;32mC:\\Games\\lib\\site-packages\\mysql\\connector\\connection.py\u001b[0m in \u001b[0;36mcmd_query\u001b[1;34m(self, query, raw, buffered, raw_as_string)\u001b[0m\n\u001b[0;32m    684\u001b[0m             \u001b[0mquery\u001b[0m \u001b[1;33m=\u001b[0m \u001b[0mquery\u001b[0m\u001b[1;33m.\u001b[0m\u001b[0mencode\u001b[0m\u001b[1;33m(\u001b[0m\u001b[1;34m'utf-8'\u001b[0m\u001b[1;33m)\u001b[0m\u001b[1;33m\u001b[0m\u001b[1;33m\u001b[0m\u001b[0m\n\u001b[0;32m    685\u001b[0m         \u001b[1;32mtry\u001b[0m\u001b[1;33m:\u001b[0m\u001b[1;33m\u001b[0m\u001b[1;33m\u001b[0m\u001b[0m\n\u001b[1;32m--> 686\u001b[1;33m             \u001b[0mresult\u001b[0m \u001b[1;33m=\u001b[0m \u001b[0mself\u001b[0m\u001b[1;33m.\u001b[0m\u001b[0m_handle_result\u001b[0m\u001b[1;33m(\u001b[0m\u001b[0mself\u001b[0m\u001b[1;33m.\u001b[0m\u001b[0m_send_cmd\u001b[0m\u001b[1;33m(\u001b[0m\u001b[0mServerCmd\u001b[0m\u001b[1;33m.\u001b[0m\u001b[0mQUERY\u001b[0m\u001b[1;33m,\u001b[0m \u001b[0mquery\u001b[0m\u001b[1;33m)\u001b[0m\u001b[1;33m)\u001b[0m\u001b[1;33m\u001b[0m\u001b[1;33m\u001b[0m\u001b[0m\n\u001b[0m\u001b[0;32m    687\u001b[0m         \u001b[1;32mexcept\u001b[0m \u001b[0merrors\u001b[0m\u001b[1;33m.\u001b[0m\u001b[0mProgrammingError\u001b[0m \u001b[1;32mas\u001b[0m \u001b[0merr\u001b[0m\u001b[1;33m:\u001b[0m\u001b[1;33m\u001b[0m\u001b[1;33m\u001b[0m\u001b[0m\n\u001b[0;32m    688\u001b[0m             \u001b[1;32mif\u001b[0m \u001b[0merr\u001b[0m\u001b[1;33m.\u001b[0m\u001b[0merrno\u001b[0m \u001b[1;33m==\u001b[0m \u001b[1;36m3948\u001b[0m \u001b[1;32mand\u001b[0m\u001b[0;31m \u001b[0m\u001b[0;31m\\\u001b[0m\u001b[1;33m\u001b[0m\u001b[1;33m\u001b[0m\u001b[0m\n",
      "\u001b[1;32mC:\\Games\\lib\\site-packages\\mysql\\connector\\connection.py\u001b[0m in \u001b[0;36m_handle_result\u001b[1;34m(self, packet)\u001b[0m\n\u001b[0;32m    571\u001b[0m             \u001b[1;32mreturn\u001b[0m \u001b[0mself\u001b[0m\u001b[1;33m.\u001b[0m\u001b[0m_handle_eof\u001b[0m\u001b[1;33m(\u001b[0m\u001b[0mpacket\u001b[0m\u001b[1;33m)\u001b[0m\u001b[1;33m\u001b[0m\u001b[1;33m\u001b[0m\u001b[0m\n\u001b[0;32m    572\u001b[0m         \u001b[1;32melif\u001b[0m \u001b[0mpacket\u001b[0m\u001b[1;33m[\u001b[0m\u001b[1;36m4\u001b[0m\u001b[1;33m]\u001b[0m \u001b[1;33m==\u001b[0m \u001b[1;36m255\u001b[0m\u001b[1;33m:\u001b[0m\u001b[1;33m\u001b[0m\u001b[1;33m\u001b[0m\u001b[0m\n\u001b[1;32m--> 573\u001b[1;33m             \u001b[1;32mraise\u001b[0m \u001b[0merrors\u001b[0m\u001b[1;33m.\u001b[0m\u001b[0mget_exception\u001b[0m\u001b[1;33m(\u001b[0m\u001b[0mpacket\u001b[0m\u001b[1;33m)\u001b[0m\u001b[1;33m\u001b[0m\u001b[1;33m\u001b[0m\u001b[0m\n\u001b[0m\u001b[0;32m    574\u001b[0m \u001b[1;33m\u001b[0m\u001b[0m\n\u001b[0;32m    575\u001b[0m         \u001b[1;31m# We have a text result set\u001b[0m\u001b[1;33m\u001b[0m\u001b[1;33m\u001b[0m\u001b[1;33m\u001b[0m\u001b[0m\n",
      "\u001b[1;31mDatabaseError\u001b[0m: 1007 (HY000): Can't create database 'carbon'; database exists"
     ]
    }
   ],
   "source": [
    "!pip install mysql-connector-python\n",
    "import mysql.connector as connection\n",
    "\n",
    "\n",
    "mydb = connection.connect(host=\"localhost\",user=\"root\", passwd=\"Sherin@1234\",use_pure=True,buffered=True)\n",
    "    # check if the connection is established\n",
    "query = \"Create Database Carbon\"\n",
    "cur= mydb.cursor()\n",
    "cur.execute(query)\n",
    "\n"
   ]
  },
  {
   "cell_type": "code",
   "execution_count": null,
   "metadata": {},
   "outputs": [],
   "source": [
    "mydb = connection.connect(host=\"localhost\",database='Carbon',user=\"root\", passwd=\"Sherin@1234\",use_pure=True,buffered=True)\n",
    "cur= mydb.cursor()\n",
    "\n"
   ]
  },
  {
   "cell_type": "code",
   "execution_count": null,
   "metadata": {},
   "outputs": [],
   "source": [
    "cur= mydb.cursor()\n",
    "cur.execute(\"Create table Carbon.Carbonnano(Chiral_indice_n varchar(10), Chiral_indice_m varchar(10),Initial_atomic_coordinate_u varchar(10),Iniatomic_indice_v varchar(10), Initial_atomic_coordinate_w varchar(10),final_atomic_coordinate_u varchar(10),final_atomic_coordinate_v varchar(10), final_atomic_coordinate_w varchar(10))\")\n"
   ]
  },
  {
   "cell_type": "code",
   "execution_count": null,
   "metadata": {},
   "outputs": [],
   "source": [
    "for i in cur.fetchall():\n",
    "    print(i)\n",
    "    "
   ]
  },
  {
   "cell_type": "code",
   "execution_count": null,
   "metadata": {},
   "outputs": [],
   "source": [
    " data_csv = csv.reader(data, delimiter = \";\")\n",
    "    for j in data_csv:\n",
    "        l = []\n",
    "        for i in j:\n",
    "            k = i.split(',')\n",
    "            l.extend( k)\n",
    "        s=','.join(l)\n",
    "        cursor.execute(f'insert into CarbonNanoTubes.carbontubes values ({s})')\n",
    "    print(\"all the data is inserted\")\n",
    "mydb.commit()    "
   ]
  },
  {
   "cell_type": "code",
   "execution_count": null,
   "metadata": {},
   "outputs": [],
   "source": [
    "import csv\n",
    "with open('carbon_nanotubes.csv',\"r\") as data :\n",
    "    next(data)\n",
    "    data_csv = csv.reader(data, delimiter= \";\")\n",
    "    for i in data_csv:\n",
    "        k=str(i).replace('[','').replace(']','')\n",
    "        cur.execute('insert into Carbon.carbonnano values ({})'.format(str(k)))\n",
    "    print('Data inserted')\n",
    "mydb.commit()"
   ]
  },
  {
   "cell_type": "code",
   "execution_count": null,
   "metadata": {},
   "outputs": [],
   "source": [
    "mydb = connection.connect(host=\"localhost\",database='Carbon',user=\"root\", passwd=\"Sherin@1234\",use_pure=True)\n",
    "cur=mydb.cursor()"
   ]
  },
  {
   "cell_type": "code",
   "execution_count": null,
   "metadata": {},
   "outputs": [],
   "source": [
    "#cur1=mydb.cursor()\n",
    "cur.execute(\"select * from Carbon.Carbonnano limit 25\")\n",
    "mydb.commit()"
   ]
  },
  {
   "cell_type": "code",
   "execution_count": null,
   "metadata": {},
   "outputs": [],
   "source": [
    "for i in cur.fetchall():\n",
    "    print(list(i))"
   ]
  },
  {
   "cell_type": "code",
   "execution_count": null,
   "metadata": {},
   "outputs": [],
   "source": [
    "cur1=mydb.cursor()\n",
    "cur1.execute('select Initial_atomic_coordinate_u,final_atomic_coordinate_u from Carbon.Carbonnano;')\n",
    "mydb.commit()"
   ]
  },
  {
   "cell_type": "code",
   "execution_count": null,
   "metadata": {},
   "outputs": [],
   "source": [
    "cur1=mydb.cursor()\n",
    "cur1.execute('select DISTINCT Initial_atomic_coordinate_u as x1,final_atomic_coordinate_u as x2 from Carbon.Carbonnano;')\n",
    "mydb.commit()"
   ]
  },
  {
   "cell_type": "code",
   "execution_count": null,
   "metadata": {},
   "outputs": [],
   "source": [
    "cur1=mydb.cursor()\n",
    "cur1.execute('select final_atomic_coordinate_v,Initial_atomic_coordinate_u from Carbon.Carbonnano where Chiral_indice_n=3;')\n",
    "mydb.commit()"
   ]
  },
  {
   "cell_type": "code",
   "execution_count": null,
   "metadata": {},
   "outputs": [],
   "source": [
    "cur1=mydb.cursor()\n",
    "cur1.execute('select Initial_atomic_coordinate_w,Initial_atomic_coordinate_u from Carbon.Carbonnano where Chiral_indice_n=3 and Chiral_indice_m=2;')\n",
    "mydb.commit()"
   ]
  },
  {
   "cell_type": "code",
   "execution_count": null,
   "metadata": {},
   "outputs": [],
   "source": [
    "cur1=mydb.cursor()\n",
    "cur1.execute(\"Update Carbon.Carbonnano set Initial_atomic_coordinate_w='0,6314' where Initial_atomic_coordinate_w='0,006602';\")\n",
    "mydb.commit()\n",
    "    \n",
    "        "
   ]
  },
  {
   "cell_type": "code",
   "execution_count": null,
   "metadata": {},
   "outputs": [],
   "source": [
    "\n",
    "cur1=mydb.cursor()\n",
    "cur1.execute('select final_atomic_coordinate_v,final_atomic_coordinate_w from Carbon.Carbonnano where NOT Chiral_indice_n=3;')\n",
    "mydb.commit()  "
   ]
  },
  {
   "cell_type": "code",
   "execution_count": null,
   "metadata": {},
   "outputs": [],
   "source": [
    "\n",
    "cur1=mydb.cursor()\n",
    "cur1.execute('select final_atomic_coordinate_u,Chiral_indice_m from Carbon.Carbonnano ORDER by Chiral_indice_n DESC;')\n",
    "mydb.commit()  "
   ]
  },
  {
   "cell_type": "code",
   "execution_count": null,
   "metadata": {},
   "outputs": [],
   "source": [
    "\n",
    "cur1=mydb.cursor()\n",
    "cur1.execute('select final_atomic_coordinate_u,Chiral_indice_m from Carbon.Carbonnano where Chiral_indice_n>=2 LIMIT 15;')\n",
    "mydb.commit()  "
   ]
  },
  {
   "cell_type": "code",
   "execution_count": null,
   "metadata": {},
   "outputs": [],
   "source": [
    "cur1=mydb.cursor()\n",
    "cur1.execute(\"select MIN(Chiral_indice_m),MAX(Initial_atomic_coordinate_u) from Carbon.Carbonnano;\")\n",
    "mydb.commit()  "
   ]
  },
  {
   "cell_type": "code",
   "execution_count": null,
   "metadata": {},
   "outputs": [],
   "source": [
    "cur1=mydb.cursor()\n",
    "cur1.execute(\"select COUNT(final_atomic_coordinate_u) from Carbon.Carbonnano ;\")\n",
    "mydb.commit() "
   ]
  },
  {
   "cell_type": "code",
   "execution_count": null,
   "metadata": {},
   "outputs": [],
   "source": [
    "cur1=mydb.cursor()\n",
    "cur1.execute(\"select initial_atomic_coordinate_u,Chiral_indice_n from Carbon.Carbonnano where Initial_atomic_coordinate_u LIKE '%64';\")\n",
    "mydb.commit() "
   ]
  },
  {
   "cell_type": "code",
   "execution_count": null,
   "metadata": {},
   "outputs": [],
   "source": [
    "cur1=mydb.cursor()\n",
    "cur1.execute(\"select final_atomic_coordinate_u,Chiral_indice_n from Carbon.Carbonnano where final_atomic_coordinate_u LIKE '%61%';\")\n",
    "mydb.commit() "
   ]
  },
  {
   "cell_type": "code",
   "execution_count": null,
   "metadata": {},
   "outputs": [],
   "source": [
    "cur1=mydb.cursor()\n",
    "cur1.execute(\"select * from Carbon.Carbonnano where Initial_atomic_coordinate_u BETWEEN '0,6790%' AND '0,7172%' Limit 10;\")\n",
    "mydb.commit() "
   ]
  },
  {
   "cell_type": "code",
   "execution_count": null,
   "metadata": {},
   "outputs": [],
   "source": [
    "cur1.execute(\"select final_atomic_coordinate_w as A1,Iniatomic_indice_v as A2 from Carbon.Carbonnano LIMIT 10;\")\n",
    "mydb.commit() "
   ]
  },
  {
   "cell_type": "code",
   "execution_count": null,
   "metadata": {},
   "outputs": [],
   "source": [
    "cur1.execute(\"select final_atomic_coordinate_w ,Chiral_indice_n from Carbon.Carbonnano Group by Chiral_indice_n;\")\n",
    "mydb.commit() "
   ]
  },
  {
   "cell_type": "code",
   "execution_count": null,
   "metadata": {},
   "outputs": [],
   "source": [
    "cur1.execute(\"select final_atomic_coordinate_w ,Chiral_indice_n from Carbon.Carbonnano where Chiral_indice_m>=1 Group by Chiral_indice_n ;\")\n",
    "mydb.commit() "
   ]
  },
  {
   "cell_type": "code",
   "execution_count": null,
   "metadata": {},
   "outputs": [],
   "source": [
    "cur= mydb.cursor()\n",
    "cur.execute(\"Create table Carbon.Carbonnano1(Chiral_indice_n varchar(10), Chiral_indice_m varchar(10),Initial_atomic_coordinate_u varchar(10),Iniatomic_indice_v varchar(10), Initial_atomic_coordinate_w varchar(10),final_atomic_coordinate_u varchar(10),final_atomic_coordinate_v varchar(10), final_atomic_coordinate_w varchar(10))\")\n"
   ]
  },
  {
   "cell_type": "code",
   "execution_count": null,
   "metadata": {},
   "outputs": [],
   "source": [
    "import csv\n",
    "with open('carbon_nanotubes.csv',\"r\") as data :\n",
    "    next(data)\n",
    "    cou=0\n",
    "    data_csv = csv.reader(data, delimiter= \";\")\n",
    "    for i in data_csv:\n",
    "        h=str(i).replace('[','').replace(']','')\n",
    "        cur.execute('insert into Carbon.carbonnano1 values ({})'.format(str(h)))\n",
    "        cou+=1\n",
    "        if cou==100:\n",
    "            break\n",
    "    print('Data inserted')\n",
    "mydb.commit()"
   ]
  },
  {
   "cell_type": "code",
   "execution_count": null,
   "metadata": {},
   "outputs": [],
   "source": [
    "cur1=mydb.cursor()\n",
    "cur1.execute(\"Select Chiral_indice_n,final_atomic_coordinate_u from Carbon.carbonnano UNION Select Chiral_indice_n,final_atomic_coordinate_u from Carbon.carbonnano1;\")\n",
    "mydb.commit()"
   ]
  },
  {
   "cell_type": "code",
   "execution_count": null,
   "metadata": {},
   "outputs": [],
   "source": [
    "cur1=mydb.cursor()\n",
    "cur1.execute(\"Select Chiral_indice_n,final_atomic_coordinate_u from Carbon.carbonnano UNION ALL Select Chiral_indice_n,final_atomic_coordinate_u from Carbon.carbonnano1;\")\n",
    "mydb.commit()"
   ]
  },
  {
   "cell_type": "code",
   "execution_count": null,
   "metadata": {},
   "outputs": [],
   "source": [
    "cur1=mydb.cursor()\n",
    "cur1.execute(\"CREATE PROCEDURE PRO AS Select * from Carbon.carbonnano ;\")\n",
    "cur1.execute('EXEC PRO;')\n",
    "mydb.commit()"
   ]
  },
  {
   "cell_type": "code",
   "execution_count": null,
   "metadata": {},
   "outputs": [],
   "source": [
    "# JOIN\n",
    "cur1=mydb.cursor()\n",
    "cur1.execute(\"select carbonnano.Chiral_indice_n,carbonnano1.Chiral_indice_m,carbonnano.Iniatomic_indice_v from carbonnano1 INNER JOIN  carbonnano ON carbonnano.Chiral_indice_m=carbonnano1.Chiral_indice_m;\")\n",
    "mydb.commit()  \n"
   ]
  },
  {
   "cell_type": "code",
   "execution_count": null,
   "metadata": {},
   "outputs": [],
   "source": [
    "cur1=mydb.cursor()\n",
    "cur1.execute(\"select carbonnano.Chiral_indice_n,carbonnano1.Chiral_indice_m,carbonnano.Iniatomic_indice_v from carbonnano LEFT JOIN  carbonnano1 ON carbonnano.Chiral_indice_m=carbonnano1.Chiral_indice_m;\")\n",
    "mydb.commit() "
   ]
  },
  {
   "cell_type": "code",
   "execution_count": null,
   "metadata": {},
   "outputs": [],
   "source": [
    "mydb=connection.connect(buffered=True)"
   ]
  },
  {
   "cell_type": "code",
   "execution_count": null,
   "metadata": {},
   "outputs": [],
   "source": [
    "#cur1= mydb.cursor()\n",
    "cur.execute(\"Select * from Carbon.carbonnano where Chiral_indice_n IS NULL\")\n",
    "mydb.commit() "
   ]
  },
  {
   "cell_type": "code",
   "execution_count": null,
   "metadata": {},
   "outputs": [],
   "source": [
    "cur= mydb.cursor()\n",
    "cur.execute(\"Create Database Neur1\")\n",
    "mydb.commit()"
   ]
  },
  {
   "cell_type": "code",
   "execution_count": null,
   "metadata": {},
   "outputs": [],
   "source": [
    "cur= mydb.cursor()\n",
    "cur.execute(\"Create Table Neur1.Cats(id int(3),name varchar(15),age int(4))\")\n",
    "mydb.commit()"
   ]
  },
  {
   "cell_type": "code",
   "execution_count": null,
   "metadata": {},
   "outputs": [],
   "source": [
    "res=cur.execute(\"Select * from Neur1.Reptile;\")\n",
    "mydb.commit()\n"
   ]
  },
  {
   "cell_type": "code",
   "execution_count": null,
   "metadata": {},
   "outputs": [],
   "source": [
    "res=cur.execute(\"Drop table Neur1.Reptile;\")\n",
    "mydb.commit()\n"
   ]
  },
  {
   "cell_type": "code",
   "execution_count": null,
   "metadata": {},
   "outputs": [],
   "source": [
    "cur.execute(\"Drop Database Neur1;\")\n",
    "mydb.commit()"
   ]
  },
  {
   "cell_type": "code",
   "execution_count": null,
   "metadata": {},
   "outputs": [],
   "source": [
    "res=cur.execute(\"Delete from Carbon.carbonnano where Chiral_indice_m=3;\")\n",
    "mydb.commit()\n",
    "print(res)"
   ]
  },
  {
   "cell_type": "code",
   "execution_count": null,
   "metadata": {},
   "outputs": [],
   "source": [
    "cur.execute(\"ALTER TABLE Carbon.carbonnano ADD sizeofcarbon VARCHAR(20) ;\")\n",
    "mydb.commit()\n"
   ]
  },
  {
   "cell_type": "code",
   "execution_count": null,
   "metadata": {},
   "outputs": [],
   "source": [
    "cur.execute(\"Create table Carbon.Second(id int(5) PRIMARY KEY,Name varchar(20) NOT NULL,Size int(8),Age int(20) NOT NULL,Region varchar(30));\")\n",
    "mydb.commit()"
   ]
  },
  {
   "cell_type": "code",
   "execution_count": null,
   "metadata": {},
   "outputs": [],
   "source": [
    "cur.execute(\"Alter Table Carbon.second Modify column Region varchar(30);\")\n",
    "mydb.commit()"
   ]
  },
  {
   "cell_type": "code",
   "execution_count": null,
   "metadata": {},
   "outputs": [],
   "source": [
    "cur.execute(\"Insert into Carbon.Second values(1,'Manu',4,23,'Kerala');\")\n",
    "cur.execute(\"Insert into Carbon.Second values(4,'Haris',4,34,'Kollam');\")\n",
    "cur.execute(\"Insert into Carbon.Second values(2,'Sathesh',5,34,'Karnataka');\")\n",
    "cur.execute(\"Insert into Carbon.Second values(3,'Ravi',8,12,'Mysore');\")\n",
    "cur.execute(\"Insert into Carbon.Second values(5,'Rajesh',4,72,'Pune');\")\n",
    "cur.execute(\"Insert into Carbon.Second values(6,'Manu',4,66,'Kochi');\")\n",
    "cur.execute(\"Insert into Carbon.Second values(7,'Tejus',5,54,'Delhi');\")\n",
    "cur.execute(\"Insert into Carbon.Second values(8,'Oommen',6,76,'Madhya Pradesh');\")\n",
    "cur.execute(\"Insert into Carbon.Second values(9,'Krish',4,23,'Kerala');\")\n",
    "cur.execute(\"Insert into Carbon.Second values(10,'Irin',7,54,'Haryana');\")\n",
    "cur.execute(\"Insert into Carbon.Second values(11,'Rajastan',8,54,'Coimatore');\")\n",
    "cur.execute(\"Insert into Carbon.Second values(12,'Sathya',8,43,'Orisa');\")\n",
    "cur.execute(\"Insert into Carbon.Second values(13,'Febin',3,37,'Kerala');\")\n",
    "mydb.commit()"
   ]
  },
  {
   "cell_type": "code",
   "execution_count": null,
   "metadata": {},
   "outputs": [],
   "source": [
    "cur.execute(\"Alter Table Carbon.second ADD Email varchar(20);\")\n",
    "mydb.commit()"
   ]
  },
  {
   "cell_type": "code",
   "execution_count": null,
   "metadata": {},
   "outputs": [],
   "source": [
    "cur.execute(\"Update  Carbon.second set Email='sherin@gmail' where id=1;\")\n",
    "mydb.commit()"
   ]
  },
  {
   "cell_type": "code",
   "execution_count": null,
   "metadata": {},
   "outputs": [],
   "source": [
    "cur.execute(\"Alter Table Carbon.second Add  Money int(20)\")\n",
    "mydb.commit()"
   ]
  },
  {
   "cell_type": "code",
   "execution_count": null,
   "metadata": {},
   "outputs": [],
   "source": [
    "print(cur.execute(\"Alter Table Carbon.second ADD CHECK(Money>=30000)\"))\n",
    "mydb.commit()"
   ]
  },
  {
   "cell_type": "code",
   "execution_count": null,
   "metadata": {},
   "outputs": [],
   "source": [
    "print(cur.execute(\"Alter Table Carbon.second Drop CHECK Money\"))\n",
    "mydb.commit()"
   ]
  },
  {
   "cell_type": "code",
   "execution_count": null,
   "metadata": {},
   "outputs": [],
   "source": [
    "print(cur.execute(\"Alter Table Carbon.second Modify Money int(20) DEFAULT '39800'\"))\n",
    "mydb.commit()"
   ]
  },
  {
   "cell_type": "code",
   "execution_count": null,
   "metadata": {},
   "outputs": [],
   "source": [
    "print(cur.execute(\"Delete from Carbon.second where Email='sherin@gmail';\"))\n",
    "mydb.commit()"
   ]
  },
  {
   "cell_type": "code",
   "execution_count": null,
   "metadata": {},
   "outputs": [],
   "source": [
    "cur=mydb.cursor()\n",
    "print(cur.execute(\"Alter Table Carbon.second Add unique(id)\";))                 \n",
    "mydb.commit()"
   ]
  },
  {
   "cell_type": "code",
   "execution_count": null,
   "metadata": {},
   "outputs": [],
   "source": [
    "cur=mydb.cursor()\n",
    "cur.execute(\"alter table carbon.second add constraint us_op unique(Name,Region);\") \n",
    "mydb.commit()"
   ]
  },
  {
   "cell_type": "code",
   "execution_count": null,
   "metadata": {},
   "outputs": [],
   "source": [
    "print(cur.execute(\"alter table carbon.second drop constraint us_op;\"))\n",
    "mydb.commit()"
   ]
  },
  {
   "cell_type": "code",
   "execution_count": null,
   "metadata": {},
   "outputs": [],
   "source": [
    "cur.execute(\"Create table Carbon.customer(id int(5) NOT NULL,F_Name varchar(20) NOT NULL,L_name varchar(20) NOT NULL,Age int(20),Region varchar(30));\")\n",
    "mydb.commit()"
   ]
  },
  {
   "cell_type": "code",
   "execution_count": null,
   "metadata": {},
   "outputs": [],
   "source": [
    "print(cur.execute(\"alter table carbon.customer add PRIMARY KEY(id);\"))\n",
    "mydb.commit()"
   ]
  },
  {
   "cell_type": "code",
   "execution_count": null,
   "metadata": {},
   "outputs": [],
   "source": [
    "cur.execute(\"Insert into Carbon.customer values(1,'Tejus','Mehta',54,'Delhi');\")\n",
    "cur.execute(\"Insert into Carbon.customer values(2,'vishal','weght',54,'Delhi');\")\n",
    "cur.execute(\"Insert into Carbon.customer values(3,'Regin','kerti',54,'Delhi');\")\n",
    "cur.execute(\"Insert into Carbon.customer values(4,'sandeep','santhosh',54,'Delhi');\")\n",
    "cur.execute(\"Insert into Carbon.customer values(5,'Tethi','werih',54,'Delhi');\")\n",
    "mydb.commit()\n",
    "\n",
    "\n",
    "\n"
   ]
  },
  {
   "cell_type": "code",
   "execution_count": null,
   "metadata": {},
   "outputs": [],
   "source": [
    "print(cur.execute(\"Alter Table Carbon.second Add FOREIGN KEY (id) references second(id);\"))                 \n",
    "mydb.commit()"
   ]
  },
  {
   "cell_type": "code",
   "execution_count": null,
   "metadata": {},
   "outputs": [],
   "source": [
    "cur.execute(\"Alter Table Carbon.customer add constraint dmk CHECK(Age>=24 and Region='Delhi' );\")               \n",
    "mydb.commit()"
   ]
  },
  {
   "cell_type": "code",
   "execution_count": null,
   "metadata": {},
   "outputs": [],
   "source": [
    "print(cur.execute(\"Alter table carbon.customer Drop  check dmk;\"))                 \n",
    "mydb.commit()"
   ]
  },
  {
   "cell_type": "code",
   "execution_count": null,
   "metadata": {},
   "outputs": [],
   "source": [
    "print(cur.execute(\"Create index id_z on carbon.customer(F_name,L_name);\"))              \n",
    "mydb.commit()"
   ]
  },
  {
   "cell_type": "code",
   "execution_count": null,
   "metadata": {},
   "outputs": [],
   "source": [
    "print(cur.execute(\"Alter table carbon.customer Drop index id_z;\"))                 \n",
    "mydb.commit()"
   ]
  },
  {
   "cell_type": "code",
   "execution_count": null,
   "metadata": {},
   "outputs": [],
   "source": []
  },
  {
   "cell_type": "code",
   "execution_count": null,
   "metadata": {},
   "outputs": [],
   "source": [
    "print(cur.execute(\"CREATE PROCEDURE Customer() Begin select Region,Size from carbon.second ENDDELIMITER ;\"))                 \n",
    "mydb.commit()"
   ]
  },
  {
   "cell_type": "code",
   "execution_count": null,
   "metadata": {},
   "outputs": [],
   "source": [
    "print(cur.execute(\"Drop procedure asdf;\"))              \n",
    "mydb.commit()"
   ]
  },
  {
   "cell_type": "code",
   "execution_count": null,
   "metadata": {},
   "outputs": [],
   "source": []
  }
 ],
 "metadata": {
  "kernelspec": {
   "display_name": "Python 3",
   "language": "python",
   "name": "python3"
  },
  "language_info": {
   "codemirror_mode": {
    "name": "ipython",
    "version": 3
   },
   "file_extension": ".py",
   "mimetype": "text/x-python",
   "name": "python",
   "nbconvert_exporter": "python",
   "pygments_lexer": "ipython3",
   "version": "3.8.3"
  }
 },
 "nbformat": 4,
 "nbformat_minor": 4
}
